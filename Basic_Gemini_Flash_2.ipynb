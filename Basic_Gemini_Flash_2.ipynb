{
  "nbformat": 4,
  "nbformat_minor": 0,
  "metadata": {
    "colab": {
      "provenance": [],
      "toc_visible": true,
      "include_colab_link": true
    },
    "kernelspec": {
      "name": "python3",
      "display_name": "Python 3"
    },
    "language_info": {
      "name": "python"
    }
  },
  "cells": [
    {
      "cell_type": "markdown",
      "metadata": {
        "id": "view-in-github",
        "colab_type": "text"
      },
      "source": [
        "<a href=\"https://colab.research.google.com/github/nathalyAlarconT/GenAI_Workshops/blob/main/Basic_Gemini_Flash_2.ipynb\" target=\"_parent\"><img src=\"https://colab.research.google.com/assets/colab-badge.svg\" alt=\"Open In Colab\"/></a>"
      ]
    },
    {
      "cell_type": "code",
      "source": [
        "# Add your Google API KEY here:\n",
        "GOOGLE_API_KEY = \"\"\n",
        "\n",
        "\n",
        "# from google.colab import userdata\n",
        "# GOOGLE_API_KEY = userdata.get('GEMINI_API_KEY')"
      ],
      "metadata": {
        "id": "_4NIiUry0lbj"
      },
      "execution_count": null,
      "outputs": []
    },
    {
      "cell_type": "code",
      "execution_count": null,
      "metadata": {
        "id": "q4zse-br0WM9"
      },
      "outputs": [],
      "source": [
        "import os\n",
        "import google.generativeai as genai\n",
        "\n",
        "genai.configure(api_key=GOOGLE_API_KEY)\n",
        "\n",
        "# Create the model\n",
        "generation_config = {\n",
        "  \"temperature\": 1,\n",
        "  \"top_p\": 0.95,\n",
        "  \"top_k\": 40,\n",
        "  \"max_output_tokens\": 8192,\n",
        "  \"response_mime_type\": \"text/plain\",\n",
        "}\n"
      ]
    },
    {
      "cell_type": "code",
      "source": [
        "model = genai.GenerativeModel(\n",
        "  model_name=\"gemini-2.0-flash\",\n",
        "  generation_config=generation_config,\n",
        ")"
      ],
      "metadata": {
        "id": "gZKY7eD64SQg"
      },
      "execution_count": null,
      "outputs": []
    },
    {
      "cell_type": "code",
      "source": [
        "response = model.generate_content(\"Tell me the days of the week in german\")\n",
        "print(response.text)"
      ],
      "metadata": {
        "id": "bZ2B1dYb4m0w"
      },
      "execution_count": null,
      "outputs": []
    },
    {
      "cell_type": "markdown",
      "source": [
        "# A sample application"
      ],
      "metadata": {
        "id": "kz9DDHew4eyc"
      }
    },
    {
      "cell_type": "code",
      "source": [
        "# @title Simple Translator { form-width: \"40%\" }\n",
        "frase_a_traducir = \"Tengo sueño y hambre\" # @param {type:\"string\"}\n",
        "\n",
        "prompt_parts = [\n",
        "  \"Traduce la siguiente frase a francés: \" + frase_a_traducir,\n",
        "]\n",
        "\n",
        "response = model.generate_content(prompt_parts)\n",
        "print(response.text)"
      ],
      "metadata": {
        "id": "Wmy2XrVt4jvm"
      },
      "execution_count": null,
      "outputs": []
    },
    {
      "cell_type": "code",
      "source": [
        "# @title Advanced Translator { form-width: \"40%\" }\n",
        "frase_a_traducir = \"Tengo sueño y hambre\" # @param {type:\"string\"}\n",
        "language = \"ALEMAN\" # @param [\"INGLES\", \"FRANCES\", \"ALEMAN\"]\n",
        "\n",
        "prompt_parts = [\n",
        "  \"Traduce la siguiente frase a \"+ language + \" : \" + frase_a_traducir,\n",
        "]\n",
        "\n",
        "response = model.generate_content(prompt_parts)\n",
        "print(response.text)"
      ],
      "metadata": {
        "id": "f3ggpOQo4w9b"
      },
      "execution_count": null,
      "outputs": []
    },
    {
      "cell_type": "markdown",
      "source": [
        "An Interview Question Generator\n",
        "\n",
        "https://platform.openai.com/docs/examples/default-interview-questions"
      ],
      "metadata": {
        "id": "XHg2lyfB7Pc_"
      }
    },
    {
      "cell_type": "code",
      "source": [
        "# @title Question Generator { form-width: \"40%\" }\n",
        "job_position = \"Data Engineer\" # @param {type:\"string\"}\n",
        "number_of_questions = \"5\" # @param {type:\"string\"}\n",
        "\n",
        "prompt_parts = [\n",
        "  \"Create a list of \"+ number_of_questions + \" questions for an interview with a \"+ job_position\n",
        "]\n",
        "\n",
        "response = model.generate_content(prompt_parts)\n",
        "print(response.text)"
      ],
      "metadata": {
        "id": "OmsWr0z17Tba"
      },
      "execution_count": null,
      "outputs": []
    },
    {
      "cell_type": "code",
      "source": [
        "# @title Summarizer { form-width: \"40%\" }\n",
        "context = \"Antibiotics are a type of medication used to treat bacterial infections. bacteria or preventing them They work by either killing the from reproducing, allowing the body’s immune system to fight off the infection. Antibiotics are usually taken orally in the form of pills, capsules, or liquid solutions, or sometimes against viral infections, and using them administered intravenously. They are not effective inappropriately can lead to antibiotic resistance. \" # @param {type:\"string\"}\n",
        "\n",
        "\n",
        "prompt_parts = [\n",
        "  \"Explain the following text in one sentence: \"+ context,\n",
        "]\n",
        "\n",
        "response = model.generate_content(prompt_parts)\n",
        "print(response.text)"
      ],
      "metadata": {
        "id": "0yDiWSmy64O0"
      },
      "execution_count": null,
      "outputs": []
    },
    {
      "cell_type": "markdown",
      "source": [
        "# Create your own application"
      ],
      "metadata": {
        "id": "R4PtA3Ri_Wpu"
      }
    },
    {
      "cell_type": "code",
      "source": [
        "# @title Activity { form-width: \"40%\" }\n",
        "input1 = \"\" # @param {type:\"string\"}\n",
        "\n",
        "\n",
        "prompt_parts = [\n",
        "  \"Add a prompt here to indicate the model what to generate: \"+ input1,\n",
        "]\n",
        "\n",
        "response = model.generate_content(prompt_parts)\n",
        "print(response.text)"
      ],
      "metadata": {
        "id": "Axzt-e8Q_WZl"
      },
      "execution_count": null,
      "outputs": []
    },
    {
      "cell_type": "markdown",
      "source": [
        "# Chat Memory"
      ],
      "metadata": {
        "id": "fvKIV3lc4Suu"
      }
    },
    {
      "cell_type": "code",
      "source": [
        "model = genai.GenerativeModel(\n",
        "  model_name=\"gemini-2.0-flash\",\n",
        "  generation_config=generation_config,\n",
        "  system_instruction=\"You are an english teacher. You will translate the received phrases from spanish to english\",\n",
        ")"
      ],
      "metadata": {
        "id": "vm1Jdy_r20CE"
      },
      "execution_count": null,
      "outputs": []
    },
    {
      "cell_type": "code",
      "source": [
        "response = model.generate_content(\"Hi, my name is Nathaly\")\n",
        "response.text"
      ],
      "metadata": {
        "id": "D7668Kr-25Y-"
      },
      "execution_count": null,
      "outputs": []
    },
    {
      "cell_type": "code",
      "source": [
        "response = model.generate_content(\"What is my name?\")\n",
        "response.text"
      ],
      "metadata": {
        "id": "kwFy-cIE4B-k"
      },
      "execution_count": null,
      "outputs": []
    },
    {
      "cell_type": "code",
      "source": [
        "chat_session = model.start_chat(\n",
        "  history=[\n",
        "  ]\n",
        ")"
      ],
      "metadata": {
        "id": "rmzNoJFP0kyT"
      },
      "execution_count": null,
      "outputs": []
    },
    {
      "cell_type": "code",
      "source": [
        "response = chat_session.send_message(\"Hi, my name is Nathaly\")\n",
        "print(response.text)"
      ],
      "metadata": {
        "id": "2vpjvDXI1saA"
      },
      "execution_count": null,
      "outputs": []
    },
    {
      "cell_type": "code",
      "source": [
        "response = chat_session.send_message(\"What is my name?\")\n",
        "print(response.text)"
      ],
      "metadata": {
        "id": "UTKJknN_1w7O"
      },
      "execution_count": null,
      "outputs": []
    },
    {
      "cell_type": "code",
      "source": [
        "response = chat_session.send_message(\"Cómo llego a la plaza principal del pueblo?\")\n",
        "print(response.text)"
      ],
      "metadata": {
        "id": "BwOrx4Ev1YIq"
      },
      "execution_count": null,
      "outputs": []
    },
    {
      "cell_type": "code",
      "source": [
        "chat_session.history"
      ],
      "metadata": {
        "id": "BySA4YHo1nw-"
      },
      "execution_count": null,
      "outputs": []
    }
  ]
}